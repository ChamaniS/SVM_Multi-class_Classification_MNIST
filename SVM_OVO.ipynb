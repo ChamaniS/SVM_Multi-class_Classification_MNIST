{
 "cells": [
  {
   "cell_type": "markdown",
   "metadata": {},
   "source": [
    "# Import Libraries"
   ]
  },
  {
   "cell_type": "code",
   "execution_count": 1,
   "metadata": {},
   "outputs": [],
   "source": [
    "import numpy as np\n",
    "import pandas as pd\n",
    "import matplotlib.pyplot as plt\n",
    "from sklearn import metrics\n",
    "from sklearn import datasets, svm\n",
    "from sklearn.model_selection import cross_val_score, cross_val_predict\n",
    "from sklearn.model_selection import RandomizedSearchCV, train_test_split\n",
    "from scipy.stats import randint\n",
    "import time\n",
    "import pickle\n",
    "from sklearn.externals import joblib\n",
    "from pprint import pprint\n",
    "import random"
   ]
  },
  {
   "cell_type": "markdown",
   "metadata": {},
   "source": [
    "# Import Dataset"
   ]
  },
  {
   "cell_type": "code",
   "execution_count": 2,
   "metadata": {},
   "outputs": [],
   "source": [
    "digits = datasets.load_digits()\n",
    "imgs = digits.images\n",
    "labels = digits.target"
   ]
  },
  {
   "cell_type": "code",
   "execution_count": 3,
   "metadata": {},
   "outputs": [
    {
     "name": "stdout",
     "output_type": "stream",
     "text": [
      "Images Shape :  (1797, 8, 8)\n",
      "Labels Shape :  (1797,)\n"
     ]
    }
   ],
   "source": [
    "print('Images Shape : ', imgs.shape)\n",
    "print('Labels Shape : ', labels.shape)"
   ]
  },
  {
   "cell_type": "code",
   "execution_count": 4,
   "metadata": {},
   "outputs": [],
   "source": [
    "x_train, x_test, y_train, y_test = train_test_split(imgs, labels, test_size=0.2, random_state=42)"
   ]
  },
  {
   "cell_type": "code",
   "execution_count": 5,
   "metadata": {},
   "outputs": [
    {
     "name": "stdout",
     "output_type": "stream",
     "text": [
      "Train Dataset (1437, 8, 8)\n",
      "Test Dataset (360, 8, 8)\n",
      "Training Set Labels (1437,)\n",
      "Testing Set Labels (360,)\n"
     ]
    }
   ],
   "source": [
    "print('Train Dataset', x_train.shape)\n",
    "print('Test Dataset', x_test.shape)\n",
    "\n",
    "print('Training Set Labels', y_train.shape)\n",
    "print('Testing Set Labels', y_test.shape)"
   ]
  },
  {
   "cell_type": "markdown",
   "metadata": {},
   "source": [
    "# Reshape Dataset"
   ]
  },
  {
   "cell_type": "code",
   "execution_count": 6,
   "metadata": {},
   "outputs": [
    {
     "name": "stdout",
     "output_type": "stream",
     "text": [
      "Train Dataset (1437, 64)\n",
      "Test Dataset (360, 64)\n",
      "Training Set Labels (1437,)\n",
      "Testing Set Labels (360,)\n"
     ]
    }
   ],
   "source": [
    "train_samples, tr_x, tr_y = x_train.shape\n",
    "train_dataset = x_train.reshape((train_samples, tr_x*tr_y))\n",
    "\n",
    "test_samples, ts_x, ts_y = x_test.shape\n",
    "test_dataset = x_test.reshape((test_samples, ts_x*ts_y))\n",
    "\n",
    "print('Train Dataset', train_dataset.shape)\n",
    "print('Test Dataset', test_dataset.shape)\n",
    "\n",
    "print('Training Set Labels', y_train.shape)\n",
    "print('Testing Set Labels', y_test.shape)"
   ]
  },
  {
   "cell_type": "markdown",
   "metadata": {},
   "source": [
    "# Save Dataset and Labels in MS Excel File"
   ]
  },
  {
   "cell_type": "code",
   "execution_count": 7,
   "metadata": {},
   "outputs": [
    {
     "name": "stdout",
     "output_type": "stream",
     "text": [
      "<class 'pandas.core.frame.DataFrame'>\n",
      "<class 'pandas.core.frame.DataFrame'>\n"
     ]
    }
   ],
   "source": [
    "test_data_values = pd.DataFrame(test_dataset)\n",
    "print(type(test_data_values))\n",
    "file_test_data = 'test_data.xlsx'\n",
    "test_data_values.to_excel(file_test_data, index=False, index_label=None, sheet_name='test_data', header = None)\n",
    "\n",
    "test_label_values = pd.DataFrame(y_test)\n",
    "print(type(test_label_values))\n",
    "file_test_labels = 'test_labels.xlsx'\n",
    "test_label_values.to_excel(file_test_labels, index=False, index_label=None, sheet_name='test_labels', header = None)"
   ]
  },
  {
   "cell_type": "markdown",
   "metadata": {},
   "source": [
    "# Define Parameters for Training"
   ]
  },
  {
   "cell_type": "code",
   "execution_count": 8,
   "metadata": {},
   "outputs": [],
   "source": [
    "no_cv = 10\n",
    "no_iter = 10\n",
    "no_verbose = 1\n",
    "no_process = -1"
   ]
  },
  {
   "cell_type": "markdown",
   "metadata": {},
   "source": [
    "# Define SVM Classifier"
   ]
  },
  {
   "cell_type": "code",
   "execution_count": 9,
   "metadata": {},
   "outputs": [
    {
     "name": "stdout",
     "output_type": "stream",
     "text": [
      "Default Parameters currently in use:\n",
      "\n",
      "{'C': 1.0,\n",
      " 'cache_size': 200,\n",
      " 'class_weight': None,\n",
      " 'coef0': 0.0,\n",
      " 'decision_function_shape': 'ovo',\n",
      " 'degree': 3,\n",
      " 'gamma': 'auto',\n",
      " 'kernel': 'rbf',\n",
      " 'max_iter': -1,\n",
      " 'probability': False,\n",
      " 'random_state': None,\n",
      " 'shrinking': True,\n",
      " 'tol': 0.001,\n",
      " 'verbose': False}\n"
     ]
    }
   ],
   "source": [
    "clf_SVM_OVO = svm.SVC(decision_function_shape='ovo')\n",
    "print('Default Parameters currently in use:\\n')\n",
    "pprint(clf_SVM_OVO.get_params())"
   ]
  },
  {
   "cell_type": "code",
   "execution_count": 10,
   "metadata": {},
   "outputs": [],
   "source": [
    "C = [0.001, 0.01, 0.1, 1, 5, 10, 50, 100, 500, 1000]\n",
    "kernel = ['linear', 'rbf', 'sigmoid']\n",
    "gamma = [0.0001, 0.001, 0.01, 0.1, 1]"
   ]
  },
  {
   "cell_type": "code",
   "execution_count": 11,
   "metadata": {},
   "outputs": [],
   "source": [
    "param_SVM = {'C':C, 'kernel':kernel, 'gamma':gamma}"
   ]
  },
  {
   "cell_type": "markdown",
   "metadata": {},
   "source": [
    "# Training for all possible parameters and finding best parameters"
   ]
  },
  {
   "cell_type": "code",
   "execution_count": 12,
   "metadata": {},
   "outputs": [
    {
     "name": "stdout",
     "output_type": "stream",
     "text": [
      "Fitting 10 folds for each of 10 candidates, totalling 100 fits\n"
     ]
    },
    {
     "name": "stderr",
     "output_type": "stream",
     "text": [
      "[Parallel(n_jobs=-1)]: Done  34 tasks      | elapsed:    3.7s\n",
      "[Parallel(n_jobs=-1)]: Done 100 out of 100 | elapsed:    6.7s finished\n"
     ]
    }
   ],
   "source": [
    "classifier_SVM_OVO = RandomizedSearchCV(estimator = clf_SVM_OVO, param_distributions = param_SVM, n_iter=no_iter, cv=no_cv, verbose=no_verbose, random_state=42, n_jobs=no_process)\n",
    "\n",
    "# Fit the random search model\n",
    "start_training_SVM = time.time()\n",
    "classifier_SVM_OVO.fit(train_dataset, y_train)\n",
    "end_training_SVM = time.time()"
   ]
  },
  {
   "cell_type": "markdown",
   "metadata": {},
   "source": [
    "# Training Time"
   ]
  },
  {
   "cell_type": "code",
   "execution_count": 13,
   "metadata": {},
   "outputs": [
    {
     "name": "stdout",
     "output_type": "stream",
     "text": [
      "Total Time :  6.994588613510132\n"
     ]
    }
   ],
   "source": [
    "training_time_SVM = end_training_SVM - start_training_SVM\n",
    "print('Total Time : ', training_time_SVM)"
   ]
  },
  {
   "cell_type": "markdown",
   "metadata": {},
   "source": [
    "# Found Attributes after training"
   ]
  },
  {
   "cell_type": "code",
   "execution_count": 14,
   "metadata": {},
   "outputs": [
    {
     "name": "stdout",
     "output_type": "stream",
     "text": [
      "Best Accuracy :  0.9909533750869868\n",
      "Best Index :  6\n",
      "Best Parameters :  {'kernel': 'rbf', 'gamma': 0.001, 'C': 5}\n",
      "Best Estimator :  SVC(C=5, cache_size=200, class_weight=None, coef0=0.0,\n",
      "  decision_function_shape='ovo', degree=3, gamma=0.001, kernel='rbf',\n",
      "  max_iter=-1, probability=False, random_state=None, shrinking=True,\n",
      "  tol=0.001, verbose=False)\n",
      "Mean Time of each validation :  [0.47367992 0.04315155 0.55085719 0.0433496  0.05629547 0.28415775\n",
      " 0.11229384 0.04587891 0.31649759 0.36520424]\n",
      "Time for all cross-validations of best index :  1.1229383945465088 seconds\n"
     ]
    }
   ],
   "source": [
    "# Best Accuracy score found among all possible combinations proposed by RandomizedSearchCV\n",
    "print('Best Accuracy : ', classifier_SVM_OVO.best_score_)\n",
    "\n",
    "# The index (of the cv_results_ arrays) which corresponds to the best candidate parameter setting.\n",
    "print('Best Index : ', classifier_SVM_OVO.best_index_)\n",
    "\n",
    "# Parameter setting that gave the best results on the hold out data.\n",
    "print('Best Parameters : ', classifier_SVM_OVO.best_params_)\n",
    "\n",
    "# Estimator that was chosen by the search, i.e. estimator which gave highest score\n",
    "print('Best Estimator : ', classifier_SVM_OVO.best_estimator_)\n",
    "\n",
    "# Mean Time of each cross validation (10 Mean Value for 10 Cross-Validations)\n",
    "time_for_all_validations_SVM = classifier_SVM_OVO.cv_results_['mean_fit_time']\n",
    "print('Mean Time of each validation : ', time_for_all_validations_SVM)\n",
    "\n",
    "# Time of all cross-validations (10) of best index\n",
    "time_best_index_SVM = time_for_all_validations_SVM[classifier_SVM_OVO.best_index_]\n",
    "print('Time for all cross-validations of best index : ', time_best_index_SVM*no_cv, 'seconds')"
   ]
  },
  {
   "cell_type": "markdown",
   "metadata": {},
   "source": [
    "# Export Best Parameters"
   ]
  },
  {
   "cell_type": "code",
   "execution_count": 15,
   "metadata": {},
   "outputs": [
    {
     "name": "stdout",
     "output_type": "stream",
     "text": [
      "<class 'dict'>\n",
      "dict_keys(['kernel', 'gamma', 'C'])\n",
      "Kernel :  rbf\n",
      "C :  5\n",
      "Gamma :  0.001\n",
      "<class 'str'>\n",
      "<class 'int'>\n",
      "<class 'float'>\n",
      "<class 'numpy.ndarray'>\n",
      "['rbf' '5' '0.001']\n"
     ]
    }
   ],
   "source": [
    "param = classifier_SVM_OVO.best_params_\n",
    "print(type(param))\n",
    "print(dict.keys(param))\n",
    "\n",
    "Kernel_Parameter = param.get(\"kernel\")\n",
    "C_Parameter = param.get(\"C\")\n",
    "Gamma_Parameter = param.get(\"gamma\")\n",
    "\n",
    "print('Kernel : ', Kernel_Parameter)\n",
    "print('C : ', C_Parameter)\n",
    "print('Gamma : ', Gamma_Parameter)\n",
    "\n",
    "print(type(Kernel_Parameter))\n",
    "print(type(C_Parameter))\n",
    "print(type(Gamma_Parameter))\n",
    "\n",
    "parameters = np.array([Kernel_Parameter, int(C_Parameter), float(Gamma_Parameter)])\n",
    "print(type(parameters))\n",
    "print(parameters)"
   ]
  },
  {
   "cell_type": "code",
   "execution_count": 16,
   "metadata": {},
   "outputs": [],
   "source": [
    "#parameter_values = pd.DataFrame(parameters)\n",
    "#print(type(parameter_values))\n",
    "#file_parameter_values = r'E:\\Masters\\01-Study\\Master Thesis\\1-Working\\3rd Task (Laptop C implementation)\\2-Load Files and Work C++\\Implement Shad Program\\parameters.xlsx'\n",
    "#parameter_values.to_excel(file_parameter_values, index=False, index_label=None, sheet_name='parameters', header = None)\n",
    "\n",
    "import xlsxwriter\n",
    "\n",
    "workbook = xlsxwriter.Workbook('parameters.xlsx', {'strings_to_numbers': True})\n",
    "worksheet = workbook.add_worksheet()\n",
    "\n",
    "worksheet.write(0, 0, Kernel_Parameter)\n",
    "worksheet.write(1, 0, C_Parameter)\n",
    "worksheet.write(2, 0, Gamma_Parameter) # Write this string as a number.\n",
    "\n",
    "workbook.close()"
   ]
  },
  {
   "cell_type": "markdown",
   "metadata": {},
   "source": [
    "# Indices of Support Vectors"
   ]
  },
  {
   "cell_type": "code",
   "execution_count": 17,
   "metadata": {},
   "outputs": [
    {
     "name": "stdout",
     "output_type": "stream",
     "text": [
      "(720,)\n",
      "[   6   47   68  122  145  161  273  306  318  409  505  582  589  608\n",
      "  623  635  658  665  762  788  812  840  855  857  880  891  954  970\n",
      "  994  997 1019 1047 1071 1084 1177 1197 1203 1205 1268 1337 1350 1352\n",
      " 1418   17   36   38   39   66   80  119  120  131  136  138  139  151\n",
      "  153  155  158  167  182  212  220  221  235  247  266  270  292  302\n",
      "  311  312  330  387  411  453  488  489  496  513  529  558  559  561\n",
      "  576  577  640  652  660  689  690  702  721  748  753  760  772  778\n",
      "  797  801  837  841  893  908  931  934  935  936  981 1006 1040 1052\n",
      " 1054 1101 1123 1127 1145 1167 1170 1179 1187 1192 1214 1264 1265 1277\n",
      " 1298 1310 1313 1316 1347 1354 1374 1399 1426 1436   10   21   65   91\n",
      "   99  144  162  219  262  263  268  272  282  293  366  368  373  390\n",
      "  408  412  423  443  450  456  457  484  491  538  549  569  593  644\n",
      "  704  779  818  828  849  860  881  892  904  939  949  965  973  992\n",
      " 1004 1020 1034 1073 1114 1130 1135 1222 1230 1232 1270 1280 1291 1293\n",
      " 1324 1355 1356 1370 1373 1403 1430 1434   16   22   71   74   84   85\n",
      "  100  112  125  128  132  152  191  213  238  244  250  255  300  307\n",
      "  314  344  353  363  371  405  434  435  446  459  461  481  515  520\n",
      "  554  568  597  627  628  669  670  675  682  701  726  737  741  754\n",
      "  765  780  793  820  889  929  962  984 1013 1031 1045 1049 1051 1110\n",
      " 1120 1155 1157 1166 1169 1261 1289 1297 1320 1372 1432    8   12   41\n",
      "   64  146  147  166  175  203  224  290  298  323  329  333  341  362\n",
      "  385  424  502  521  524  539  579  583  605  607  621  622  630  636\n",
      "  641  648  651  703  732  761  807  882  928  937  941  964  971  982\n",
      "  986 1035 1057 1082 1092 1096 1183 1216 1229 1233 1243 1247 1267 1299\n",
      " 1318 1319 1384 1395 1398 1413 1422 1427 1428 1431   27   52   58   61\n",
      "   90  106  110  133  174  205  206  217  218  253  261  301  322  331\n",
      "  351  376  401  433  441  467  490  516  526  537  545  585  613  632\n",
      "  638  643  679  698  710  728  730  734  747  777  844  879  918  921\n",
      "  924  960  977  979 1023 1026 1028 1094 1124 1129 1142 1165 1171 1204\n",
      " 1249 1252 1258 1278 1307 1311 1321 1327 1351 1429    0   40   73   76\n",
      "   88  118  142  193  317  320  378  402  419  440  448  479  482  487\n",
      "  495  497  528  544  546  563  580  592  671  676  693  696  720  766\n",
      "  800  822  845  850  887  996 1003 1069 1132 1163 1215 1226 1251 1262\n",
      " 1285 1322 1368 1397   42   53   56   63  103  130  141  154  172  178\n",
      "  202  215  257  279  280  359  431  465  476  519  522  523  560  572\n",
      "  588  590  598  611  656  694  729  745  785  786  790  791  813  816\n",
      "  825  831  833  842  858  869  871  894  900  903  966  988  995 1041\n",
      " 1050 1070 1079 1100 1115 1119 1152 1154 1159 1162 1164 1237 1279 1286\n",
      " 1295 1326 1334 1405 1435   11   23   25   26   44   83  148  180  186\n",
      "  197  200  225  228  229  258  297  326  337  347  348  357  365  372\n",
      "  392  410  442  463  473  480  485  492  503  534  536  551  565  631\n",
      "  654  657  683  695  706  714  725  775  782  795  798  799  804  811\n",
      "  814  836  859  875  883  897  901  913  915  946  956  961  963  983\n",
      "  985 1030 1039 1042 1044 1063 1068 1098 1103 1105 1122 1126 1134 1139\n",
      " 1184 1207 1239 1245 1248 1254 1273 1275 1281 1283 1290 1305 1309 1359\n",
      " 1381 1394 1414 1416 1420   14   50   62   77  107  117  124  126  127\n",
      "  156  165  168  192  196  216  230  237  278  286  294  338  379  391\n",
      "  398  407  447  469  471  494  510  533  542  555  562  564  617  626\n",
      "  637  642  647  653  661  662  685  736  756  789  806  817  838  854\n",
      "  867  870  884  957  969 1000 1011 1014 1016 1037 1059 1089 1099 1109\n",
      " 1111 1133 1137 1173 1175 1191 1195 1196 1212 1244 1269 1272 1288 1315\n",
      " 1331 1332 1342 1391 1404 1410]\n"
     ]
    }
   ],
   "source": [
    "print(classifier_SVM_OVO.best_estimator_.support_.shape)\n",
    "print(classifier_SVM_OVO.best_estimator_.support_)"
   ]
  },
  {
   "cell_type": "markdown",
   "metadata": {},
   "source": [
    "# Support Vectors (Value of x_i)"
   ]
  },
  {
   "cell_type": "code",
   "execution_count": 18,
   "metadata": {},
   "outputs": [
    {
     "name": "stdout",
     "output_type": "stream",
     "text": [
      "(720, 64)\n",
      "[[ 0.  0.  0. ...  9.  0.  0.]\n",
      " [ 0.  0.  1. ... 12.  1.  0.]\n",
      " [ 0.  0.  7. ...  0.  0.  0.]\n",
      " ...\n",
      " [ 0.  0.  8. ... 16. 12.  0.]\n",
      " [ 0.  0.  7. ...  9.  0.  0.]\n",
      " [ 0.  0.  2. ... 16. 10.  0.]]\n"
     ]
    }
   ],
   "source": [
    "print(classifier_SVM_OVO.best_estimator_.support_vectors_.shape)\n",
    "print(classifier_SVM_OVO.best_estimator_.support_vectors_)"
   ]
  },
  {
   "cell_type": "markdown",
   "metadata": {},
   "source": [
    "##### Save the Support Vectors"
   ]
  },
  {
   "cell_type": "code",
   "execution_count": 19,
   "metadata": {},
   "outputs": [
    {
     "name": "stdout",
     "output_type": "stream",
     "text": [
      "<class 'pandas.core.frame.DataFrame'>\n"
     ]
    }
   ],
   "source": [
    "xi_values = pd.DataFrame(classifier_SVM_OVO.best_estimator_.support_vectors_)\n",
    "print(type(xi_values))\n",
    "file_xi = 'xi.xlsx'\n",
    "xi_values.to_excel(file_xi,index=False, index_label=None, sheet_name='xi', header = None)"
   ]
  },
  {
   "cell_type": "markdown",
   "metadata": {},
   "source": [
    "# Number of Support Vectors for each class"
   ]
  },
  {
   "cell_type": "code",
   "execution_count": 20,
   "metadata": {},
   "outputs": [
    {
     "name": "stdout",
     "output_type": "stream",
     "text": [
      "(10,)\n",
      "[43 93 68 73 69 70 50 71 98 85]\n"
     ]
    }
   ],
   "source": [
    "print(classifier_SVM_OVO.best_estimator_.n_support_.shape)\n",
    "print(classifier_SVM_OVO.best_estimator_.n_support_)"
   ]
  },
  {
   "cell_type": "markdown",
   "metadata": {},
   "source": [
    "##### Save the number of Support Vectors for each class"
   ]
  },
  {
   "cell_type": "code",
   "execution_count": 21,
   "metadata": {},
   "outputs": [
    {
     "name": "stdout",
     "output_type": "stream",
     "text": [
      "<class 'pandas.core.frame.DataFrame'>\n"
     ]
    }
   ],
   "source": [
    "no_SV = pd.DataFrame(classifier_SVM_OVO.best_estimator_.n_support_)\n",
    "print(type(no_SV))\n",
    "file_noSV = 'no_SV.xlsx'\n",
    "no_SV.to_excel(file_noSV,index=False, index_label=None, sheet_name='no_SV', header = None)"
   ]
  },
  {
   "cell_type": "markdown",
   "metadata": {},
   "source": [
    "# Coefficients of the support vector in the decision function (value of alpha)"
   ]
  },
  {
   "cell_type": "code",
   "execution_count": 22,
   "metadata": {},
   "outputs": [
    {
     "name": "stdout",
     "output_type": "stream",
     "text": [
      "(9, 720)\n",
      "[[ 0.20713259  0.          0.         ... -0.         -0.\n",
      "  -0.03174388]\n",
      " [ 0.          0.          0.         ... -0.         -0.\n",
      "  -0.25606236]\n",
      " [ 0.          0.          0.         ... -0.         -0.\n",
      "  -0.06641471]\n",
      " ...\n",
      " [ 0.          0.          0.         ... -0.         -0.\n",
      "  -0.19328002]\n",
      " [ 0.17062977  0.          0.         ... -0.         -0.\n",
      "  -0.09064573]\n",
      " [ 0.10543021  0.          0.         ... -0.         -0.\n",
      "  -0.08414877]]\n"
     ]
    }
   ],
   "source": [
    "print(classifier_SVM_OVO.best_estimator_.dual_coef_.shape)\n",
    "print(classifier_SVM_OVO.best_estimator_.dual_coef_)"
   ]
  },
  {
   "cell_type": "markdown",
   "metadata": {},
   "source": [
    "##### Save the values of 'alpha'"
   ]
  },
  {
   "cell_type": "code",
   "execution_count": 23,
   "metadata": {},
   "outputs": [
    {
     "name": "stdout",
     "output_type": "stream",
     "text": [
      "<class 'pandas.core.frame.DataFrame'>\n"
     ]
    }
   ],
   "source": [
    "alpha_values = pd.DataFrame(classifier_SVM_OVO.best_estimator_.dual_coef_)\n",
    "print(type(alpha_values))\n",
    "file_alpha = 'alpha.xlsx'\n",
    "alpha_values.to_excel(file_alpha, index=False, index_label=None, sheet_name='alpha', header = None)"
   ]
  },
  {
   "cell_type": "markdown",
   "metadata": {},
   "source": [
    "# Constants in decision function (Value of b)"
   ]
  },
  {
   "cell_type": "code",
   "execution_count": 24,
   "metadata": {},
   "outputs": [
    {
     "name": "stdout",
     "output_type": "stream",
     "text": [
      "(45,)\n",
      "[-0.48692391 -0.41554004 -0.35890656 -0.43998608 -0.48392321 -0.24585528\n",
      " -0.39171955 -0.46049463 -0.45239063  0.15986714  0.25218499  0.10098672\n",
      "  0.12346392  0.30977389  0.0785207   0.18506128  0.14811355  0.06986461\n",
      " -0.03270043 -0.02567471  0.23355386 -0.05376773 -0.0212323  -0.03253961\n",
      " -0.13049437 -0.11872675  0.13591256 -0.15574711 -0.08873775 -0.11155316\n",
      "  0.05940127  0.29253786  0.02825803  0.00564283 -0.0235015   0.31142658\n",
      " -0.00090015  0.06463665 -0.08438994 -0.22130744 -0.31815664 -0.26245467\n",
      "  0.09826874 -0.01396766 -0.122389  ]\n"
     ]
    }
   ],
   "source": [
    "print(classifier_SVM_OVO.best_estimator_.intercept_.shape)\n",
    "print(classifier_SVM_OVO.best_estimator_.intercept_)"
   ]
  },
  {
   "cell_type": "markdown",
   "metadata": {},
   "source": [
    "##### Save the values of 'b'"
   ]
  },
  {
   "cell_type": "code",
   "execution_count": 25,
   "metadata": {},
   "outputs": [
    {
     "name": "stdout",
     "output_type": "stream",
     "text": [
      "<class 'pandas.core.frame.DataFrame'>\n"
     ]
    }
   ],
   "source": [
    "bias_values = pd.DataFrame(classifier_SVM_OVO.best_estimator_.intercept_)\n",
    "print(type(bias_values))\n",
    "file_bias = 'bias.xlsx'\n",
    "bias_values.to_excel(file_bias, index=False, index_label=None, sheet_name='bias', header = None)"
   ]
  },
  {
   "cell_type": "markdown",
   "metadata": {},
   "source": [
    "# Labels of Support Vectors"
   ]
  },
  {
   "cell_type": "code",
   "execution_count": 26,
   "metadata": {},
   "outputs": [
    {
     "name": "stdout",
     "output_type": "stream",
     "text": [
      "(1437,)\n"
     ]
    },
    {
     "data": {
      "text/plain": [
       "array([0, 0, 0, 0, 0, 0, 0, 0, 0, 0, 0, 0, 0, 0, 0, 0, 0, 0, 0, 0, 0, 0,\n",
       "       0, 0, 0, 0, 0, 0, 0, 0, 0, 0, 0, 0, 0, 0, 0, 0, 0, 0, 0, 0, 0, 1,\n",
       "       1, 1, 1, 1, 1, 1, 1, 1, 1, 1, 1, 1, 1, 1, 1, 1, 1, 1, 1, 1, 1, 1,\n",
       "       1, 1, 1, 1, 1, 1, 1, 1, 1, 1, 1, 1, 1, 1, 1, 1, 1, 1, 1, 1, 1, 1,\n",
       "       1, 1, 1, 1, 1, 1, 1, 1, 1, 1, 1, 1, 1, 1, 1, 1, 1, 1, 1, 1, 1, 1,\n",
       "       1, 1, 1, 1, 1, 1, 1, 1, 1, 1, 1, 1, 1, 1, 1, 1, 1, 1, 1, 1, 1, 1,\n",
       "       1, 1, 1, 1, 2, 2, 2, 2, 2, 2, 2, 2, 2, 2, 2, 2, 2, 2, 2, 2, 2, 2,\n",
       "       2, 2, 2, 2, 2, 2, 2, 2, 2, 2, 2, 2, 2, 2, 2, 2, 2, 2, 2, 2, 2, 2,\n",
       "       2, 2, 2, 2, 2, 2, 2, 2, 2, 2, 2, 2, 2, 2, 2, 2, 2, 2, 2, 2, 2, 2,\n",
       "       2, 2, 2, 2, 2, 2, 3, 3, 3, 3, 3, 3, 3, 3, 3, 3, 3, 3, 3, 3, 3, 3,\n",
       "       3, 3, 3, 3, 3, 3, 3, 3, 3, 3, 3, 3, 3, 3, 3, 3, 3, 3, 3, 3, 3, 3,\n",
       "       3, 3, 3, 3, 3, 3, 3, 3, 3, 3, 3, 3, 3, 3, 3, 3, 3, 3, 3, 3, 3, 3,\n",
       "       3, 3, 3, 3, 3, 3, 3, 3, 3, 3, 3, 3, 3, 4, 4, 4, 4, 4, 4, 4, 4, 4,\n",
       "       4, 4, 4, 4, 4, 4, 4, 4, 4, 4, 4, 4, 4, 4, 4, 4, 4, 4, 4, 4, 4, 4,\n",
       "       4, 4, 4, 4, 4, 4, 4, 4, 4, 4, 4, 4, 4, 4, 4, 4, 4, 4, 4, 4, 4, 4,\n",
       "       4, 4, 4, 4, 4, 4, 4, 4, 4, 4, 4, 4, 4, 4, 4, 4, 5, 5, 5, 5, 5, 5,\n",
       "       5, 5, 5, 5, 5, 5, 5, 5, 5, 5, 5, 5, 5, 5, 5, 5, 5, 5, 5, 5, 5, 5,\n",
       "       5, 5, 5, 5, 5, 5, 5, 5, 5, 5, 5, 5, 5, 5, 5, 5, 5, 5, 5, 5, 5, 5,\n",
       "       5, 5, 5, 5, 5, 5, 5, 5, 5, 5, 5, 5, 5, 5, 5, 5, 5, 5, 5, 5, 6, 6,\n",
       "       6, 6, 6, 6, 6, 6, 6, 6, 6, 6, 6, 6, 6, 6, 6, 6, 6, 6, 6, 6, 6, 6,\n",
       "       6, 6, 6, 6, 6, 6, 6, 6, 6, 6, 6, 6, 6, 6, 6, 6, 6, 6, 6, 6, 6, 6,\n",
       "       6, 6, 6, 6, 7, 7, 7, 7, 7, 7, 7, 7, 7, 7, 7, 7, 7, 7, 7, 7, 7, 7,\n",
       "       7, 7, 7, 7, 7, 7, 7, 7, 7, 7, 7, 7, 7, 7, 7, 7, 7, 7, 7, 7, 7, 7,\n",
       "       7, 7, 7, 7, 7, 7, 7, 7, 7, 7, 7, 7, 7, 7, 7, 7, 7, 7, 7, 7, 7, 7,\n",
       "       7, 7, 7, 7, 7, 7, 7, 7, 7, 8, 8, 8, 8, 8, 8, 8, 8, 8, 8, 8, 8, 8,\n",
       "       8, 8, 8, 8, 8, 8, 8, 8, 8, 8, 8, 8, 8, 8, 8, 8, 8, 8, 8, 8, 8, 8,\n",
       "       8, 8, 8, 8, 8, 8, 8, 8, 8, 8, 8, 8, 8, 8, 8, 8, 8, 8, 8, 8, 8, 8,\n",
       "       8, 8, 8, 8, 8, 8, 8, 8, 8, 8, 8, 8, 8, 8, 8, 8, 8, 8, 8, 8, 8, 8,\n",
       "       8, 8, 8, 8, 8, 8, 8, 8, 8, 8, 8, 8, 8, 8, 8, 8, 8, 8, 8, 9, 9, 9,\n",
       "       9, 9, 9, 9, 9, 9, 9, 9, 9, 9, 9, 9, 9, 9, 9, 9, 9, 9, 9, 9, 9, 9,\n",
       "       9, 9, 9, 9, 9, 9, 9, 9, 9, 9, 9, 9, 9, 9, 9, 9, 9, 9, 9, 9, 9, 9,\n",
       "       9, 9, 9, 9, 9, 9, 9, 9, 9, 9, 9, 9, 9, 9, 9, 9, 9, 9, 9, 9, 9, 9,\n",
       "       9, 9, 9, 9, 9, 9, 9, 9, 9, 9, 9, 9, 9, 9, 9, 9])"
      ]
     },
     "execution_count": 26,
     "metadata": {},
     "output_type": "execute_result"
    }
   ],
   "source": [
    "print(y_train.shape)\n",
    "y_train[(classifier_SVM_OVO.best_estimator_.support_)].shape\n",
    "y_train[(classifier_SVM_OVO.best_estimator_.support_)]"
   ]
  },
  {
   "cell_type": "markdown",
   "metadata": {},
   "source": [
    "##### Save the Labels of Support Vectors"
   ]
  },
  {
   "cell_type": "code",
   "execution_count": 27,
   "metadata": {},
   "outputs": [
    {
     "name": "stdout",
     "output_type": "stream",
     "text": [
      "<class 'pandas.core.frame.DataFrame'>\n"
     ]
    }
   ],
   "source": [
    "labels_SV = pd.DataFrame(y_train[(classifier_SVM_OVO.best_estimator_.support_)])\n",
    "print(type(labels_SV))\n",
    "file_labels_SV = 'labels_SV.xlsx'\n",
    "labels_SV.to_excel(file_labels_SV, index=False, index_label=None, sheet_name='labels_SV', header = None)"
   ]
  },
  {
   "cell_type": "markdown",
   "metadata": {},
   "source": [
    "# Predict"
   ]
  },
  {
   "cell_type": "code",
   "execution_count": 28,
   "metadata": {},
   "outputs": [],
   "source": [
    "start_testing_SVM = time.time()\n",
    "predict_SVM = classifier_SVM_OVO.predict(test_dataset)\n",
    "end_testing_SVM = time.time()"
   ]
  },
  {
   "cell_type": "markdown",
   "metadata": {},
   "source": [
    "##### Show Prediction Time and Accuracy"
   ]
  },
  {
   "cell_type": "code",
   "execution_count": 29,
   "metadata": {},
   "outputs": [
    {
     "name": "stdout",
     "output_type": "stream",
     "text": [
      "Test Accuracy :  0.9888888888888889\n",
      "Prediction Time :  0.023310422897338867\n"
     ]
    }
   ],
   "source": [
    "test_score_SVM = classifier_SVM_OVO.score(test_dataset, y_test)\n",
    "print('Test Accuracy : ', test_score_SVM)\n",
    "\n",
    "testing_time_SVM = end_testing_SVM - start_testing_SVM\n",
    "print('Prediction Time : ', testing_time_SVM)"
   ]
  },
  {
   "cell_type": "code",
   "execution_count": 30,
   "metadata": {},
   "outputs": [
    {
     "name": "stdout",
     "output_type": "stream",
     "text": [
      "Actual Labels Shape :  (360,)\n",
      "Predicted Labels Shape :  (360,)\n",
      "Actual Labels :  [6 9 3 7 2 1 5 2 5 2 1 9 4 0 4 2 3 7 8 8 4 3 9 7 5 6 3 5 6 3 4 9 1 4 4 6 9\n",
      " 4 7 6 6 9 1 3 6 1 3 0 6 5 5 1 9 5 6 0 9 0 0 1 0 4 5 2 4 5 7 0 7 5 9 5 5 4\n",
      " 7 0 4 5 5 9 9 0 2 3 8 0 6 4 4 9 1 2 8 3 5 2 9 0 4 4 4 3 5 3 1 3 5 9 4 2 7\n",
      " 7 4 4 1 9 2 7 8 7 2 6 9 4 0 7 2 7 5 8 7 5 7 7 0 6 6 4 2 8 0 9 4 6 9 9 6 9\n",
      " 0 3 5 6 6 0 6 4 3 9 3 9 7 2 9 0 4 5 3 6 5 9 9 8 4 2 1 3 7 7 2 2 3 9 8 0 3\n",
      " 2 2 5 6 9 9 4 1 5 4 2 3 6 4 8 5 9 5 7 8 9 4 8 1 5 4 4 9 6 1 8 6 0 4 5 2 7\n",
      " 4 6 4 5 6 0 3 2 3 6 7 1 5 1 4 7 6 8 8 5 5 1 6 2 8 8 9 9 7 6 2 2 2 3 4 8 8\n",
      " 3 6 0 9 7 7 0 1 0 4 5 1 5 3 6 0 4 1 0 0 3 6 5 9 7 3 5 5 9 9 8 5 3 3 2 0 5\n",
      " 8 3 4 0 2 4 6 4 3 4 5 0 5 2 1 3 1 4 1 1 7 0 1 5 2 1 2 8 7 0 6 4 8 8 5 1 8\n",
      " 4 5 8 7 9 8 5 0 6 2 0 7 9 8 9 5 2 7 7 1 8 7 4 3 8 3 5]\n",
      "Predicted Labels :  [6 9 3 7 2 1 5 2 5 2 1 9 4 0 4 2 3 7 8 8 4 3 9 7 5 6 3 5 6 3 4 9 1 4 4 6 9\n",
      " 4 7 6 6 9 1 3 6 1 3 0 6 5 5 1 9 5 6 0 9 0 0 1 0 4 5 2 4 5 7 0 7 5 9 5 5 4\n",
      " 7 0 4 5 5 9 9 0 2 3 8 0 6 4 4 9 1 2 8 3 5 2 9 0 4 4 4 3 5 3 1 3 5 9 4 2 7\n",
      " 7 4 4 1 9 2 7 8 7 2 6 9 4 0 7 2 7 5 8 7 5 7 9 0 6 6 4 2 8 0 9 4 6 9 9 6 9\n",
      " 0 5 5 6 6 0 6 4 3 9 3 7 7 2 9 0 4 5 3 6 5 9 9 8 4 2 1 3 7 7 2 2 3 9 8 0 3\n",
      " 2 2 5 6 9 9 4 1 5 4 2 3 6 4 8 5 9 5 7 8 9 4 8 1 5 4 4 9 6 1 8 6 0 4 5 2 7\n",
      " 4 6 4 5 6 0 3 2 3 6 7 1 5 1 4 7 6 8 8 5 5 1 6 2 8 8 9 9 7 6 2 2 2 3 4 8 8\n",
      " 3 6 0 9 7 7 0 1 0 4 5 1 5 3 6 0 4 1 0 0 3 6 5 9 7 3 5 5 9 9 8 5 3 3 2 0 5\n",
      " 8 3 4 0 2 4 6 4 3 4 5 0 5 2 1 3 1 4 1 1 7 0 1 5 2 1 2 8 7 0 6 4 8 8 5 1 8\n",
      " 4 5 8 7 9 8 6 0 6 2 0 7 9 8 9 5 2 7 7 1 8 7 4 3 8 3 5]\n"
     ]
    }
   ],
   "source": [
    "print('Actual Labels Shape : ', y_test.shape)\n",
    "print('Predicted Labels Shape : ', predict_SVM.shape)\n",
    "print('Actual Labels : ', y_test)\n",
    "print('Predicted Labels : ', predict_SVM)"
   ]
  },
  {
   "cell_type": "markdown",
   "metadata": {},
   "source": [
    "##### Save predicted labels"
   ]
  },
  {
   "cell_type": "code",
   "execution_count": 31,
   "metadata": {},
   "outputs": [
    {
     "name": "stdout",
     "output_type": "stream",
     "text": [
      "<class 'pandas.core.frame.DataFrame'>\n"
     ]
    }
   ],
   "source": [
    "predict_SVM = pd.DataFrame(predict_SVM)\n",
    "print(type(predict_SVM))\n",
    "file_predict_results = 'predictions.xlsx'\n",
    "predict_SVM.to_excel(file_predict_results, index=False, index_label=None, sheet_name='predictions', header = None)"
   ]
  },
  {
   "cell_type": "markdown",
   "metadata": {},
   "source": [
    "# Work for single Test Element"
   ]
  },
  {
   "cell_type": "markdown",
   "metadata": {},
   "source": [
    "##### Load first element and reshape "
   ]
  },
  {
   "cell_type": "code",
   "execution_count": 35,
   "metadata": {},
   "outputs": [],
   "source": [
    "A=test_dataset[0,:]\n",
    "B = np.reshape(A, (1, -1))"
   ]
  },
  {
   "cell_type": "markdown",
   "metadata": {},
   "source": [
    "##### Predict value for chosen test element"
   ]
  },
  {
   "cell_type": "code",
   "execution_count": 36,
   "metadata": {},
   "outputs": [
    {
     "data": {
      "text/plain": [
       "array([6])"
      ]
     },
     "execution_count": 36,
     "metadata": {},
     "output_type": "execute_result"
    }
   ],
   "source": [
    "classifier_SVM_OVO.best_estimator_.predict(B)  "
   ]
  },
  {
   "cell_type": "markdown",
   "metadata": {},
   "source": [
    "##### Check Decision Function"
   ]
  },
  {
   "cell_type": "code",
   "execution_count": 56,
   "metadata": {},
   "outputs": [
    {
     "data": {
      "text/plain": [
       "array([[-0.10576299,  0.08611723,  0.02455942, -0.05644037, -0.14910456,\n",
       "        -1.00355837,  0.12191181, -0.28268428, -0.09108589,  0.32580151,\n",
       "         0.267082  ,  0.02580776,  0.10411427, -1.31007137,  0.33439272,\n",
       "        -0.34777606, -0.04950281, -0.050918  , -0.1040734 , -0.17583958,\n",
       "        -1.2439709 ,  0.13014175, -0.6494695 , -0.27394263, -0.18291351,\n",
       "        -0.33950794, -1.22099642,  0.04059798, -0.79053617, -0.30366229,\n",
       "         0.00362853, -1.22483273,  0.36530671, -0.402442  , -0.04719855,\n",
       "        -1.23001569,  0.3076673 , -0.27545247,  0.15341093,  1.17550986,\n",
       "         1.15629277,  1.13029723, -0.64429581, -0.33669679,  0.50455802]])"
      ]
     },
     "execution_count": 56,
     "metadata": {},
     "output_type": "execute_result"
    }
   ],
   "source": [
    "classifier_SVM_OVO.best_estimator_.decision_function(B)"
   ]
  }
 ],
 "metadata": {
  "kernelspec": {
   "display_name": "Python 3",
   "language": "python",
   "name": "python3"
  },
  "language_info": {
   "codemirror_mode": {
    "name": "ipython",
    "version": 3
   },
   "file_extension": ".py",
   "mimetype": "text/x-python",
   "name": "python",
   "nbconvert_exporter": "python",
   "pygments_lexer": "ipython3",
   "version": "3.6.5"
  }
 },
 "nbformat": 4,
 "nbformat_minor": 2
}
